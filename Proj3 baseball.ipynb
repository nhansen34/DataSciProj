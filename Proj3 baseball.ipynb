{
 "cells": [
  {
   "cell_type": "code",
   "execution_count": null,
   "id": "fc74fe79-ab89-4d96-b228-2762c1c45651",
   "metadata": {},
   "outputs": [],
   "source": [
    "# trying to predict a world series win \n",
    "from sklearn.ensemble import RandomForestClassifier\n",
    "from sklearn.model_selection import train_test_split\n",
    "numerical_active_teams_1998 = active_teams_1998.drop(['lgID','teamID', 'franchID','divID', 'name','park','teamIDBR','teamIDlahman45','teamIDretro'], axis=1) \n",
    "numerical_active_teams_1998 = numerical_active_teams_1998.replace({'Y': 1, 'N': 0})\n",
    "X = numerical_active_teams_1998.drop(['WSWin', 'LgWin', 'DivWin'], axis=1)\n",
    "y = numerical_active_teams_1998['WSWin']\n",
    "\n",
    "# Split into training and test sets\n",
    "X_train, X_test, y_train, y_test = train_test_split(X, y, test_size=0.3, random_state=42)\n",
    "\n",
    "# Train Random Forest model\n",
    "rf = RandomForestClassifier(n_estimators=100, random_state=42)\n",
    "rf.fit(X_train, y_train)\n",
    "\n",
    "# Get feature importances\n",
    "feature_importances = pd.Series(rf.feature_importances_, index=X.columns).sort_values(ascending=False)\n",
    "\n",
    "print(feature_importances)"
   ]
  }
 ],
 "metadata": {
  "kernelspec": {
   "display_name": "Python 3 (ipykernel)",
   "language": "python",
   "name": "python3"
  },
  "language_info": {
   "codemirror_mode": {
    "name": "ipython",
    "version": 3
   },
   "file_extension": ".py",
   "mimetype": "text/x-python",
   "name": "python",
   "nbconvert_exporter": "python",
   "pygments_lexer": "ipython3",
   "version": "3.12.4"
  }
 },
 "nbformat": 4,
 "nbformat_minor": 5
}
